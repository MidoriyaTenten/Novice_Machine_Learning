{
  "cells": [
    {
      "cell_type": "markdown",
      "metadata": {
        "id": "fKADPWcFKlj3"
      },
      "source": [
        "# **1. Import Library**"
      ]
    },
    {
      "cell_type": "markdown",
      "metadata": {
        "id": "LgA3ERnVn84N"
      },
      "source": [
        "Pada tahap ini, Anda perlu mengimpor beberapa pustaka (library) Python yang dibutuhkan untuk analisis data dan pembangunan model machine learning."
      ]
    },
    {
      "cell_type": "code",
      "execution_count": 12,
      "metadata": {
        "id": "BlmvjLY9M4Yj"
      },
      "outputs": [],
      "source": [
        "import pandas as pd\n",
        "import numpy as np\n",
        "import seaborn as sns\n",
        "import matplotlib.pyplot as plt\n",
        "from scipy.stats import randint\n",
        "from sklearn.model_selection import train_test_split\n",
        "from sklearn.model_selection import GridSearchCV, RandomizedSearchCV\n",
        "from sklearn.preprocessing import LabelEncoder\n",
        "from sklearn.ensemble import RandomForestClassifier\n",
        "from sklearn.tree import DecisionTreeClassifier\n",
        "from sklearn.metrics import confusion_matrix, accuracy_score, recall_score, f1_score, classification_report"
      ]
    },
    {
      "cell_type": "markdown",
      "metadata": {
        "id": "f3YIEnAFKrKL"
      },
      "source": [
        "# **2. Memuat Dataset dari Hasil Clustering**"
      ]
    },
    {
      "cell_type": "markdown",
      "metadata": {
        "id": "Ey3ItwTen_7E"
      },
      "source": [
        "Memuat dataset hasil clustering dari file CSV ke dalam variabel DataFrame."
      ]
    },
    {
      "cell_type": "code",
      "execution_count": 13,
      "metadata": {
        "id": "GHCGNTyrM5fS"
      },
      "outputs": [
        {
          "data": {
            "application/vnd.microsoft.datawrangler.viewer.v0+json": {
              "columns": [
                {
                  "name": "index",
                  "rawType": "int64",
                  "type": "integer"
                },
                {
                  "name": "TransactionAmount",
                  "rawType": "float64",
                  "type": "float"
                },
                {
                  "name": "TransactionDuration",
                  "rawType": "float64",
                  "type": "float"
                },
                {
                  "name": "CustomerAge",
                  "rawType": "float64",
                  "type": "float"
                },
                {
                  "name": "AccountBalance",
                  "rawType": "float64",
                  "type": "float"
                },
                {
                  "name": "Cluster",
                  "rawType": "int64",
                  "type": "integer"
                },
                {
                  "name": "TransactionType",
                  "rawType": "object",
                  "type": "string"
                },
                {
                  "name": "Channel",
                  "rawType": "object",
                  "type": "string"
                }
              ],
              "conversionMethod": "pd.DataFrame",
              "ref": "8ab15e9f-ef32-4ece-bc8c-2afcc0672ef7",
              "rows": [
                [
                  "0",
                  "14.09",
                  "81.0",
                  "70.0",
                  "5112.21",
                  "4",
                  "Debit",
                  "ATM"
                ],
                [
                  "1",
                  "376.24",
                  "141.0",
                  "68.0",
                  "13758.91",
                  "4",
                  "Debit",
                  "ATM"
                ],
                [
                  "2",
                  "126.29000000000002",
                  "56.0",
                  "19.0",
                  "1122.35",
                  "1",
                  "Debit",
                  "Online"
                ],
                [
                  "3",
                  "184.5",
                  "25.000000000000004",
                  "26.0",
                  "8569.06",
                  "1",
                  "Debit",
                  "Online"
                ],
                [
                  "4",
                  "13.45",
                  "198.0",
                  "26.0",
                  "7429.4",
                  "3",
                  "Credit",
                  "Online"
                ]
              ],
              "shape": {
                "columns": 7,
                "rows": 5
              }
            },
            "text/html": [
              "<div>\n",
              "<style scoped>\n",
              "    .dataframe tbody tr th:only-of-type {\n",
              "        vertical-align: middle;\n",
              "    }\n",
              "\n",
              "    .dataframe tbody tr th {\n",
              "        vertical-align: top;\n",
              "    }\n",
              "\n",
              "    .dataframe thead th {\n",
              "        text-align: right;\n",
              "    }\n",
              "</style>\n",
              "<table border=\"1\" class=\"dataframe\">\n",
              "  <thead>\n",
              "    <tr style=\"text-align: right;\">\n",
              "      <th></th>\n",
              "      <th>TransactionAmount</th>\n",
              "      <th>TransactionDuration</th>\n",
              "      <th>CustomerAge</th>\n",
              "      <th>AccountBalance</th>\n",
              "      <th>Cluster</th>\n",
              "      <th>TransactionType</th>\n",
              "      <th>Channel</th>\n",
              "    </tr>\n",
              "  </thead>\n",
              "  <tbody>\n",
              "    <tr>\n",
              "      <th>0</th>\n",
              "      <td>14.09</td>\n",
              "      <td>81.0</td>\n",
              "      <td>70.0</td>\n",
              "      <td>5112.21</td>\n",
              "      <td>4</td>\n",
              "      <td>Debit</td>\n",
              "      <td>ATM</td>\n",
              "    </tr>\n",
              "    <tr>\n",
              "      <th>1</th>\n",
              "      <td>376.24</td>\n",
              "      <td>141.0</td>\n",
              "      <td>68.0</td>\n",
              "      <td>13758.91</td>\n",
              "      <td>4</td>\n",
              "      <td>Debit</td>\n",
              "      <td>ATM</td>\n",
              "    </tr>\n",
              "    <tr>\n",
              "      <th>2</th>\n",
              "      <td>126.29</td>\n",
              "      <td>56.0</td>\n",
              "      <td>19.0</td>\n",
              "      <td>1122.35</td>\n",
              "      <td>1</td>\n",
              "      <td>Debit</td>\n",
              "      <td>Online</td>\n",
              "    </tr>\n",
              "    <tr>\n",
              "      <th>3</th>\n",
              "      <td>184.50</td>\n",
              "      <td>25.0</td>\n",
              "      <td>26.0</td>\n",
              "      <td>8569.06</td>\n",
              "      <td>1</td>\n",
              "      <td>Debit</td>\n",
              "      <td>Online</td>\n",
              "    </tr>\n",
              "    <tr>\n",
              "      <th>4</th>\n",
              "      <td>13.45</td>\n",
              "      <td>198.0</td>\n",
              "      <td>26.0</td>\n",
              "      <td>7429.40</td>\n",
              "      <td>3</td>\n",
              "      <td>Credit</td>\n",
              "      <td>Online</td>\n",
              "    </tr>\n",
              "  </tbody>\n",
              "</table>\n",
              "</div>"
            ],
            "text/plain": [
              "   TransactionAmount  TransactionDuration  CustomerAge  AccountBalance  \\\n",
              "0              14.09                 81.0         70.0         5112.21   \n",
              "1             376.24                141.0         68.0        13758.91   \n",
              "2             126.29                 56.0         19.0         1122.35   \n",
              "3             184.50                 25.0         26.0         8569.06   \n",
              "4              13.45                198.0         26.0         7429.40   \n",
              "\n",
              "   Cluster TransactionType Channel  \n",
              "0        4           Debit     ATM  \n",
              "1        4           Debit     ATM  \n",
              "2        1           Debit  Online  \n",
              "3        1           Debit  Online  \n",
              "4        3          Credit  Online  "
            ]
          },
          "execution_count": 13,
          "metadata": {},
          "output_type": "execute_result"
        }
      ],
      "source": [
        "data = pd.read_csv(\"Dataset_inisiasi.csv\")\n",
        "data.head()"
      ]
    },
    {
      "cell_type": "markdown",
      "metadata": {
        "id": "KkPem5eWL2UP"
      },
      "source": [
        "# **3. Data Splitting**"
      ]
    },
    {
      "cell_type": "markdown",
      "metadata": {
        "id": "YYj1rl_JNI9Y"
      },
      "source": [
        "Tahap Data Splitting bertujuan untuk memisahkan dataset menjadi dua bagian: data latih (training set) dan data uji (test set)."
      ]
    },
    {
      "cell_type": "code",
      "execution_count": 14,
      "metadata": {
        "id": "OubAW-7ONKVj"
      },
      "outputs": [],
      "source": [
        "le = LabelEncoder()\n",
        "data[['TransactionType', 'Channel']] = data[['TransactionType', 'Channel']].apply(le.fit_transform)\n",
        "\n",
        "X = data.drop(columns=['Cluster'])\n",
        "y = data['Cluster']\n",
        "\n",
        "X_train, X_test, y_train, y_test = train_test_split(X, y, test_size=0.2, random_state=42, stratify=y)"
      ]
    },
    {
      "cell_type": "markdown",
      "metadata": {
        "id": "IVPbB03CMhTT"
      },
      "source": [
        "# **4. Membangun Model Klasifikasi**\n"
      ]
    },
    {
      "cell_type": "markdown",
      "metadata": {
        "id": "Ned1pL9zMmBK"
      },
      "source": [
        "## **a. Membangun Model Klasifikasi**"
      ]
    },
    {
      "cell_type": "markdown",
      "metadata": {
        "id": "WAWzPOE4Nkti"
      },
      "source": [
        "Setelah memilih algoritma klasifikasi yang sesuai, langkah selanjutnya adalah melatih model menggunakan data latih.\n",
        "\n",
        "Berikut adalah rekomendasi tahapannya.\n",
        "1. Pilih algoritma klasifikasi yang sesuai, seperti Logistic Regression, Decision Tree, Random Forest, atau K-Nearest Neighbors (KNN).\n",
        "2. Latih model menggunakan data latih."
      ]
    },
    {
      "cell_type": "code",
      "execution_count": 15,
      "metadata": {
        "id": "4JYxBe87NLDk"
      },
      "outputs": [],
      "source": [
        "rf_model = RandomForestClassifier(n_estimators=100, random_state=42)\n",
        "rf_model.fit(X_train, y_train)\n",
        "dt_model = DecisionTreeClassifier(random_state=42)\n",
        "dt_model.fit(X_train, y_train)\n",
        "\n",
        "y_pred_rf = rf_model.predict(X_test)\n",
        "y_pred_dt = dt_model.predict(X_test)"
      ]
    },
    {
      "cell_type": "markdown",
      "metadata": {
        "id": "seYoHNY3XU1y"
      },
      "source": [
        "Tulis narasi atau penjelasan algoritma yang Anda gunakan."
      ]
    },
    {
      "cell_type": "markdown",
      "metadata": {},
      "source": [
        "# Penjelasan Algoritma yang digunakan\n",
        "- Random Forrest merupakan ensemble learning yang menggabungkan beberapa Decision Tree untuk meningkatkan akurasi prediksi dan mengurangi risiko overfitting. Setiap pohon dalam Random Forest dilatih menggunakan subset acak dari data pelatihan dan subset acak dari fitur yang tersedia.\n",
        "- Decision Tree merupakan algoritma machine learning yang sering digunakan dalam tugas klasifikasi dan regresi. Struktur dasar dari Decision Tree melibatkan tiga komponen utama, yaitu akar (root node), node (decision node), dan daun (leaf node)"
      ]
    },
    {
      "cell_type": "markdown",
      "metadata": {
        "id": "ergzChZFEL-O"
      },
      "source": [
        "## **b. Evaluasi Model Klasifikasi**"
      ]
    },
    {
      "cell_type": "markdown",
      "metadata": {
        "id": "zOm68u-7NpLT"
      },
      "source": [
        "Berikut adalah **rekomendasi** tahapannya.\n",
        "1. Lakukan prediksi menggunakan data uji.\n",
        "2. Hitung metrik evaluasi seperti Accuracy dan F1-Score (Opsional: Precision dan Recall).\n",
        "3. Buat confusion matrix untuk melihat detail prediksi benar dan salah."
      ]
    },
    {
      "cell_type": "code",
      "execution_count": 16,
      "metadata": {
        "id": "tMq4QAssNLip"
      },
      "outputs": [
        {
          "name": "stdout",
          "output_type": "stream",
          "text": [
            "Random Forest Model\n",
            "Accuracy: 1.0\n",
            "Classification Report:\n",
            "               precision    recall  f1-score   support\n",
            "\n",
            "           1       1.00      1.00      1.00       113\n",
            "           2       1.00      1.00      1.00       124\n",
            "           3       1.00      1.00      1.00       114\n",
            "           4       1.00      1.00      1.00       152\n",
            "\n",
            "    accuracy                           1.00       503\n",
            "   macro avg       1.00      1.00      1.00       503\n",
            "weighted avg       1.00      1.00      1.00       503\n",
            "\n"
          ]
        }
      ],
      "source": [
        "print(\"Random Forest Model\")\n",
        "print(\"Accuracy:\", accuracy_score(y_test, y_pred_rf))\n",
        "print(\"Classification Report:\\n\", classification_report(y_test, y_pred_rf))"
      ]
    },
    {
      "cell_type": "code",
      "execution_count": 17,
      "metadata": {},
      "outputs": [
        {
          "name": "stdout",
          "output_type": "stream",
          "text": [
            "Decision Tree Model\n",
            "Accuracy: 1.0\n",
            "Classification Report:\n",
            "               precision    recall  f1-score   support\n",
            "\n",
            "           1       1.00      1.00      1.00       113\n",
            "           2       1.00      1.00      1.00       124\n",
            "           3       1.00      1.00      1.00       114\n",
            "           4       1.00      1.00      1.00       152\n",
            "\n",
            "    accuracy                           1.00       503\n",
            "   macro avg       1.00      1.00      1.00       503\n",
            "weighted avg       1.00      1.00      1.00       503\n",
            "\n"
          ]
        }
      ],
      "source": [
        "print(\"Decision Tree Model\")\n",
        "print(\"Accuracy:\", accuracy_score(y_test, y_pred_dt))\n",
        "print(\"Classification Report:\\n\", classification_report(y_test, y_pred_dt))"
      ]
    },
    {
      "cell_type": "markdown",
      "metadata": {
        "id": "H4_9OwrsXZlz"
      },
      "source": [
        "Tulis hasil evaluasi algoritma yang digunakan, jika Anda menggunakan 2 algoritma, maka bandingkan hasilnya."
      ]
    },
    {
      "cell_type": "markdown",
      "metadata": {},
      "source": [
        "### 📌 Analisis & Perbandingan\n",
        "- Random Forest, sebagai kumpulan pohon keputusan memberikan hasil sempurna pada data ini. Namun, dibandingkan Decision Tree, Random Forest umumnya lebih stabil dan resisten terhadap overfitting karena menggunakan rata-rata prediksi dari banyak pohon. Maka, jika kedua model memberi hasil yang sama, Random Forest cenderung lebih dipercaya untuk generalisasi.\n",
        "\n",
        "- Decision Tree berhasil mengklasifikasikan semua data dengan sempurna tanpa kesalahan sama sekali. Ini menunjukkan bahwa model sangat fit terhadap data pelatihan dan/atau data uji. Performa sempurna ini bisa menjadi indikasi overfitting jika diuji hanya pada data pelatihan, karena Decision Tree cenderung membangun model yang sangat kompleks mengikuti noise di data."
      ]
    },
    {
      "cell_type": "markdown",
      "metadata": {
        "id": "ph9yIYDXEPuB"
      },
      "source": [
        "## **c. Tuning Model Klasifikasi (Optional)**"
      ]
    },
    {
      "cell_type": "markdown",
      "metadata": {
        "id": "-Bikx3LINv5e"
      },
      "source": [
        "Gunakan GridSearchCV, RandomizedSearchCV, atau metode lainnya untuk mencari kombinasi hyperparameter terbaik"
      ]
    },
    {
      "cell_type": "markdown",
      "metadata": {},
      "source": [
        "Tuning Model RandomForest dan Decision Tree dengan GridSearchCV"
      ]
    },
    {
      "cell_type": "code",
      "execution_count": 18,
      "metadata": {
        "id": "winbFzb8NL95"
      },
      "outputs": [],
      "source": [
        "param_grid = {\n",
        "    'n_estimators': [100, 200, 300],\n",
        "    'max_depth': [10, 20, None],\n",
        "    'min_samples_split': [2, 5, 10],\n",
        "    'min_samples_leaf': [1, 2, 4]\n",
        "}\n",
        "grid_search = GridSearchCV(RandomForestClassifier(random_state=42), param_grid, cv=3, scoring='f1_macro')\n",
        "grid_search.fit(X_train, y_train)\n",
        "best_rf = grid_search.best_estimator_\n",
        "y_pred_best_rf = best_rf.predict(X_test)"
      ]
    },
    {
      "cell_type": "code",
      "execution_count": 19,
      "metadata": {},
      "outputs": [],
      "source": [
        "param_grid = {\n",
        "    'criterion': ['gini', 'entropy'],\n",
        "    'max_depth': [None, 5, 10, 20],\n",
        "    'min_samples_split': [2, 5, 10],\n",
        "    'min_samples_leaf': [1, 2, 4]\n",
        "}\n",
        "\n",
        "\n",
        "dt = DecisionTreeClassifier(random_state=42)\n",
        "\n",
        "grid_search = GridSearchCV(dt, param_grid, cv=5, scoring='accuracy', n_jobs=-1)\n",
        "grid_search.fit(X_train, y_train)\n",
        "\n",
        "best_dt = grid_search.best_estimator_\n",
        "y_pred_best_dt = best_dt.predict(X_test)"
      ]
    },
    {
      "cell_type": "markdown",
      "metadata": {
        "id": "hE7pqlEPEYzI"
      },
      "source": [
        "## **d. Evaluasi Model Klasifikasi setelah Tuning (Optional)**"
      ]
    },
    {
      "cell_type": "markdown",
      "metadata": {
        "id": "feaPESoeN0zz"
      },
      "source": [
        "Berikut adalah rekomendasi tahapannya.\n",
        "1. Gunakan model dengan hyperparameter terbaik.\n",
        "2. Hitung ulang metrik evaluasi untuk melihat apakah ada peningkatan performa."
      ]
    },
    {
      "cell_type": "code",
      "execution_count": 20,
      "metadata": {},
      "outputs": [
        {
          "name": "stdout",
          "output_type": "stream",
          "text": [
            "Random Forest model\n",
            "Accuracy: 1.0\n",
            "Classification Report:\n",
            "               precision    recall  f1-score   support\n",
            "\n",
            "           1       1.00      1.00      1.00       113\n",
            "           2       1.00      1.00      1.00       124\n",
            "           3       1.00      1.00      1.00       114\n",
            "           4       1.00      1.00      1.00       152\n",
            "\n",
            "    accuracy                           1.00       503\n",
            "   macro avg       1.00      1.00      1.00       503\n",
            "weighted avg       1.00      1.00      1.00       503\n",
            "\n"
          ]
        }
      ],
      "source": [
        "#hasil tuning model rf\n",
        "print(\"Random Forest model\")\n",
        "print(\"Accuracy:\", accuracy_score(y_test, y_pred_rf))\n",
        "print(\"Classification Report:\\n\", classification_report(y_test, y_pred_best_rf))\n",
        "\n"
      ]
    },
    {
      "cell_type": "code",
      "execution_count": 21,
      "metadata": {
        "id": "HTXZRvEeNMb1"
      },
      "outputs": [
        {
          "name": "stdout",
          "output_type": "stream",
          "text": [
            "=== Optimized Decision Tree ===\n",
            "Accuracy: 1.0\n",
            "Classification Report:\n",
            "               precision    recall  f1-score   support\n",
            "\n",
            "           1       1.00      1.00      1.00       113\n",
            "           2       1.00      1.00      1.00       124\n",
            "           3       1.00      1.00      1.00       114\n",
            "           4       1.00      1.00      1.00       152\n",
            "\n",
            "    accuracy                           1.00       503\n",
            "   macro avg       1.00      1.00      1.00       503\n",
            "weighted avg       1.00      1.00      1.00       503\n",
            "\n"
          ]
        }
      ],
      "source": [
        "#hasil tuning model dt\n",
        "print(\"=== Optimized Decision Tree ===\")\n",
        "print(\"Accuracy:\", accuracy_score(y_test, y_pred_dt))\n",
        "print(\"Classification Report:\\n\", classification_report(y_test, y_pred_best_dt))"
      ]
    },
    {
      "cell_type": "markdown",
      "metadata": {
        "id": "ZRsOdm4uEgAW"
      },
      "source": [
        "## **e. Analisis Hasil Evaluasi Model Klasifikasi**"
      ]
    },
    {
      "cell_type": "markdown",
      "metadata": {
        "id": "Hm3BhSi6N4_l"
      },
      "source": [
        "Berikut adalah **rekomendasi** tahapannya.\n",
        "1. Bandingkan hasil evaluasi sebelum dan setelah tuning (jika dilakukan).\n",
        "2. Identifikasi kelemahan model, seperti:\n",
        "  - Precision atau Recall rendah untuk kelas tertentu.\n",
        "  - Apakah model mengalami overfitting atau underfitting?\n",
        "3. Berikan rekomendasi tindakan lanjutan, seperti mengumpulkan data tambahan atau mencoba algoritma lain jika hasil belum memuaskan."
      ]
    },
    {
      "cell_type": "markdown",
      "metadata": {},
      "source": [
        "#### Perbandingan Hasil Evaluasi\n",
        "Model Decision Tree maupun Random Forest menunjukkan hasil evaluasi yang sama sebelum dan sesudah tuning, dengan akurasi, precision, recall, dan f1-score yang semuanya mencapai 1.00. Ini menandakan bahwa proses tuning tidak memberikan dampak signifikan terhadap performa model, kemungkinan karena data yang digunakan sudah sangat sesuai atau model terlalu menyesuaikan diri dengan data pelatihan.\n",
        "\n",
        "#### Kelemahan Model\n",
        "Meskipun hasil evaluasi terlihat sempurna, hal ini justru menunjukkan potensi overfitting, terutama pada model Decision Tree yang memang cenderung membentuk aturan kompleks jika tidak dibatasi. Tidak adanya perbedaan antara hasil sebelum dan sesudah tuning serta metrik evaluasi yang sangat tinggi di semua kelas bisa mengindikasikan bahwa model dilatih dan diuji pada data yang sama, atau tidak dilakukan validasi yang memadai.\n",
        "\n",
        "#### Rekomendasi Tindakan\n",
        "- Optimasi data : Perbanyak data agar model belajar lebih umum, atau gunakan teknik seperti SMOTE untuk menyeimbangkan kelas.Kurangi jumlah fitur yang tidak penting dengan PCA atau seleksi fitur agar noise berkurang.\n",
        "- kurangi fitur yang tidak perlu : Jika terlalu banyak fitur, model bisa belajar dari informasi yang tidak penting. Gunakan teknik seperti seleksi fitur atau PCA untuk menyaring hanya fitur yang benar-benar membantu prediksi.\n",
        "- Uji dengan data baru yang belum pernah dipelajari model : dengan Hasil evaluasi yang tinggi tidak cukup jika hanya diuji di data pelatihan. Model sebaiknya diuji pada data lain yang tidak digunakan saat melatih agar kita tahu seberapa baik model bekerja di kondisi nyata.\n",
        "- Mencoba algoritma lain : Jika model saat ini masih menunjukkan tanda-tanda overfitting, seperti akurasi sempurna di data latih namun buruk di data uji, maka mencoba algoritma lain yang lebih sederhana atau menerapkan pendekatan ensemble dengan teknik regularisasi menjadi langkah penting untuk memperoleh model yang lebih general dan stabil.\n"
      ]
    }
  ],
  "metadata": {
    "colab": {
      "provenance": []
    },
    "kernelspec": {
      "display_name": "venv",
      "language": "python",
      "name": "python3"
    },
    "language_info": {
      "codemirror_mode": {
        "name": "ipython",
        "version": 3
      },
      "file_extension": ".py",
      "mimetype": "text/x-python",
      "name": "python",
      "nbconvert_exporter": "python",
      "pygments_lexer": "ipython3",
      "version": "3.12.2"
    }
  },
  "nbformat": 4,
  "nbformat_minor": 0
}
